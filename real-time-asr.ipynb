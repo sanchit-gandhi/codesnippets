{
 "cells": [
  {
   "cell_type": "code",
   "execution_count": null,
   "id": "d5d78c9f-8837-4232-86a4-f8aa1c601000",
   "metadata": {},
   "outputs": [],
   "source": [
    "from transformers import pipeline\n",
    "from transformers.pipelines.audio_utils import ffmpeg_microphone_live\n",
    "import torch\n",
    "import sys"
   ]
  },
  {
   "cell_type": "markdown",
   "id": "f489f803-62a8-4c85-bba3-e1f8ce878b86",
   "metadata": {},
   "source": [
    "## CTC with Wav2Vec2-2-BERT"
   ]
  },
  {
   "cell_type": "code",
   "execution_count": null,
   "id": "2aca4066-c5c0-48fb-a140-cbd49f9c4f75",
   "metadata": {},
   "outputs": [],
   "source": [
    "device = \"cuda:0\" if torch.cuda.is_available() else  \"cpu\"\n",
    "\n",
    "transcriber = pipeline(\n",
    "    \"automatic-speech-recognition\", model=\"hf-audio/wav2vec2-bert-CV16-en\", device=device\n",
    ")"
   ]
  },
  {
   "cell_type": "markdown",
   "id": "f5161e6e-547b-4df5-a9ad-5ab6a4d6c63a",
   "metadata": {},
   "source": [
    "Function to record the microphone inputs for a specified `chunk_length_s` duration, with a streaming chunk size\n",
    "of `stream_chunk_s`:"
   ]
  },
  {
   "cell_type": "code",
   "execution_count": 36,
   "id": "4816574a-34fc-4ec6-ad25-98a290d5473a",
   "metadata": {},
   "outputs": [],
   "source": [
    "def transcribe(chunk_length_s=10.0, stream_chunk_s=1.0):\n",
    "    sampling_rate = transcriber.feature_extractor.sampling_rate\n",
    "\n",
    "    mic = ffmpeg_microphone_live(\n",
    "        sampling_rate=sampling_rate,\n",
    "        chunk_length_s=chunk_length_s,\n",
    "        stream_chunk_s=stream_chunk_s,\n",
    "    )\n",
    "\n",
    "    print(\"Start speaking...\")\n",
    "    for item in transcriber(mic, generate_kwargs={\"max_new_tokens\": 128}):\n",
    "        sys.stdout.write(\"\\033[K\")\n",
    "        print(item[\"text\"], end=\"\\r\")\n",
    "        if not item[\"partial\"][0]:\n",
    "            break\n",
    "\n",
    "    return item[\"text\"]"
   ]
  },
  {
   "cell_type": "code",
   "execution_count": null,
   "id": "41b3f4d3-9b9a-4290-873f-a6d94e391266",
   "metadata": {},
   "outputs": [],
   "source": [
    "transcribe()"
   ]
  },
  {
   "cell_type": "markdown",
   "id": "677efd21-d4ba-41a7-8860-ee82a708603b",
   "metadata": {},
   "source": [
    "## Encoder-Decoder with Distil-Whisper"
   ]
  },
  {
   "cell_type": "markdown",
   "id": "73e3fce2-fbbc-42a9-9af9-5e9be57c8d77",
   "metadata": {},
   "source": [
    "Whisper small (ideal for CPU):"
   ]
  },
  {
   "cell_type": "code",
   "execution_count": null,
   "id": "8692022d-ec32-4c10-a6a9-9c471583d476",
   "metadata": {},
   "outputs": [],
   "source": [
    "device = \"cuda:0\" if torch.cuda.is_available() else \"mps\" if torch.backends.mps.is_available() else \"cpu\" \n",
    "\n",
    "transcriber = pipeline(\n",
    "    \"automatic-speech-recognition\", model=\"distil-whisper/distil-small.en\", device=device\n",
    ")\n",
    "\n",
    "transcriber.model.generation_config.language = None\n",
    "transcriber.model.generation_config.task = None"
   ]
  },
  {
   "cell_type": "code",
   "execution_count": null,
   "id": "773a47bf-37e9-4cd1-9be4-c468bd9d7025",
   "metadata": {},
   "outputs": [],
   "source": [
    "transcribe()"
   ]
  },
  {
   "cell_type": "markdown",
   "id": "1fcf02cf-583d-4da8-b01d-16961e279280",
   "metadata": {},
   "source": [
    "Distil-Whisper medium (fastest on GPU):"
   ]
  },
  {
   "cell_type": "code",
   "execution_count": 37,
   "id": "8062cf22-1e96-4b6a-8cd6-c52ded0cfc3b",
   "metadata": {},
   "outputs": [
    {
     "name": "stderr",
     "output_type": "stream",
     "text": [
      "Special tokens have been added in the vocabulary, make sure the associated word embeddings are fine-tuned or trained.\n"
     ]
    }
   ],
   "source": [
    "transcriber = pipeline(\n",
    "    \"automatic-speech-recognition\", model=\"distil-whisper/distil-medium.en\", device=device\n",
    ")\n",
    "\n",
    "transcriber.model.generation_config.language = None\n",
    "transcriber.model.generation_config.task = None"
   ]
  },
  {
   "cell_type": "code",
   "execution_count": 43,
   "id": "4b035294-a2fb-4db6-949a-3b8bb4fa8485",
   "metadata": {},
   "outputs": [
    {
     "name": "stdout",
     "output_type": "stream",
     "text": [
      "Start speaking...\n",
      "\u001b[K Hey, I'm running the Distill Whisper model in real time using the Transformers library with a streaming input and a chunk length of one second.\r"
     ]
    },
    {
     "data": {
      "text/plain": [
       "\" Hey, I'm running the Distill Whisper model in real time using the Transformers library with a streaming input and a chunk length of one second.\""
      ]
     },
     "execution_count": 43,
     "metadata": {},
     "output_type": "execute_result"
    }
   ],
   "source": [
    "transcribe()"
   ]
  },
  {
   "cell_type": "code",
   "execution_count": null,
   "id": "a227d9c4-2b15-45f9-85ff-017599a9cfa8",
   "metadata": {},
   "outputs": [],
   "source": []
  }
 ],
 "metadata": {
  "kernelspec": {
   "display_name": "Python 3 (ipykernel)",
   "language": "python",
   "name": "python3"
  },
  "language_info": {
   "codemirror_mode": {
    "name": "ipython",
    "version": 3
   },
   "file_extension": ".py",
   "mimetype": "text/x-python",
   "name": "python",
   "nbconvert_exporter": "python",
   "pygments_lexer": "ipython3",
   "version": "3.11.6"
  }
 },
 "nbformat": 4,
 "nbformat_minor": 5
}
