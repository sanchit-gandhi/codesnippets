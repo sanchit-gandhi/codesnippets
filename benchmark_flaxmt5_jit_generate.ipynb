{
 "cells": [
  {
   "cell_type": "code",
   "execution_count": 1,
   "id": "7bde01f0-c3a5-459b-8124-28eb266771f4",
   "metadata": {},
   "outputs": [
    {
     "name": "stderr",
     "output_type": "stream",
     "text": [
      "/Users/sanchitgandhi/venv/lib/python3.8/site-packages/jax/_src/lib/__init__.py:33: UserWarning: JAX on Mac ARM machines is experimental and minimally tested. Please see https://github.com/google/jax/issues/5501 in the event of problems.\n",
      "  warnings.warn(\"JAX on Mac ARM machines is experimental and minimally tested. \"\n"
     ]
    }
   ],
   "source": [
    "from transformers import T5Tokenizer, FlaxMT5ForConditionalGeneration\n",
    "import jax"
   ]
  },
  {
   "cell_type": "code",
   "execution_count": 2,
   "id": "e2034a12-12af-4f14-9066-5074202d5de4",
   "metadata": {},
   "outputs": [
    {
     "name": "stderr",
     "output_type": "stream",
     "text": [
      "WARNING:absl:No GPU/TPU found, falling back to CPU. (Set TF_CPP_MIN_LOG_LEVEL=0 and rerun for more info.)\n",
      "Some weights of FlaxMT5ForConditionalGeneration were not initialized from the model checkpoint at lewtun/tiny-random-mt5 and are newly initialized: {('lm_head', 'kernel')}\n",
      "You should probably TRAIN this model on a down-stream task to be able to use it for predictions and inference.\n"
     ]
    }
   ],
   "source": [
    "model = FlaxMT5ForConditionalGeneration.from_pretrained(\"lewtun/tiny-random-mt5\", from_pt=True)\n",
    "tokenizer = T5Tokenizer.from_pretrained(\"lewtun/tiny-random-mt5\")\n",
    "\n",
    "input_context = \"The dog\"\n",
    "input_ids = tokenizer(input_context, return_tensors=\"np\").input_ids"
   ]
  },
  {
   "cell_type": "code",
   "execution_count": 3,
   "id": "c1ab4efb-d400-4bc2-9a0b-ed23dada6c1f",
   "metadata": {},
   "outputs": [
    {
     "name": "stdout",
     "output_type": "stream",
     "text": [
      "CPU times: user 4.54 s, sys: 86 ms, total: 4.62 s\n",
      "Wall time: 4.52 s\n"
     ]
    }
   ],
   "source": [
    "# generate candidates using sampling and vanilla generate method\n",
    "%time outputs = model.generate(input_ids=input_ids, max_length=20, top_k=30, do_sample=True).sequences.block_until_ready()"
   ]
  },
  {
   "cell_type": "code",
   "execution_count": 4,
   "id": "1b1d451b-d987-4d7f-87f6-b10a66e02503",
   "metadata": {},
   "outputs": [],
   "source": [
    "# vanilla generate -> JIT generate \n",
    "jit_generate = jax.jit(model.generate, static_argnames=[\"max_length\", \"top_k\", \"do_sample\"])"
   ]
  },
  {
   "cell_type": "code",
   "execution_count": 5,
   "id": "6b63b0f2-ce13-4dd2-b6d9-1f9339ab834f",
   "metadata": {},
   "outputs": [
    {
     "name": "stdout",
     "output_type": "stream",
     "text": [
      "CPU times: user 6.34 s, sys: 166 ms, total: 6.51 s\n",
      "Wall time: 6.46 s\n"
     ]
    }
   ],
   "source": [
    "# benchmark JIT compile time\n",
    "%time outputs = jit_generate(input_ids=input_ids, max_length=20, top_k=30, do_sample=True).sequences.block_until_ready()"
   ]
  },
  {
   "cell_type": "code",
   "execution_count": 6,
   "id": "c9cd2379-5b07-4054-9601-9b39ce2368ad",
   "metadata": {},
   "outputs": [
    {
     "name": "stdout",
     "output_type": "stream",
     "text": [
      "CPU times: user 97.7 ms, sys: 17.5 ms, total: 115 ms\n",
      "Wall time: 85.9 ms\n"
     ]
    }
   ],
   "source": [
    "# benchmark compiled generation time (should be << JIT compile time)\n",
    "%time outputs = jit_generate(input_ids=input_ids, max_length=20, top_k=30, do_sample=True).sequences.block_until_ready()"
   ]
  },
  {
   "cell_type": "code",
   "execution_count": null,
   "id": "2c50567a-42fb-485e-a1a7-66efa6b9004d",
   "metadata": {},
   "outputs": [],
   "source": [
    "# you should remove `.block_until_ready() when no longer benchmarking\n",
    "outputs = jit_generate(input_ids=input_ids, max_length=20, top_k=30, do_sample=True).sequences\n",
    "print(outputs)"
   ]
  }
 ],
 "metadata": {
  "kernelspec": {
   "display_name": "Python 3 (ipykernel)",
   "language": "python",
   "name": "python3"
  },
  "language_info": {
   "codemirror_mode": {
    "name": "ipython",
    "version": 3
   },
   "file_extension": ".py",
   "mimetype": "text/x-python",
   "name": "python",
   "nbconvert_exporter": "python",
   "pygments_lexer": "ipython3",
   "version": "3.9.15"
  }
 },
 "nbformat": 4,
 "nbformat_minor": 5
}
