{
 "cells": [
  {
   "cell_type": "code",
   "execution_count": null,
   "id": "e9cec1e3-fce5-4c74-b028-51b9f2ae1d30",
   "metadata": {},
   "outputs": [
    {
     "name": "stderr",
     "output_type": "stream",
     "text": [
      "/Users/sanchitgandhi/venv/lib/python3.9/site-packages/tqdm/auto.py:21: TqdmWarning: IProgress not found. Please update jupyter and ipywidgets. See https://ipywidgets.readthedocs.io/en/stable/user_install.html\n",
      "  from .autonotebook import tqdm as notebook_tqdm\n"
     ]
    }
   ],
   "source": [
    "from transformers import WhisperForConditionalGeneration, WhisperConfig, WhisperProcessor, WhisperFeatureExtractor, WhisperTokenizer\n",
    "from datasets import load_dataset"
   ]
  },
  {
   "cell_type": "code",
   "execution_count": null,
   "id": "c3080add-c7b6-4e37-ba6b-7ea5cb80a200",
   "metadata": {},
   "outputs": [],
   "source": [
    "# load the original model\n",
    "model = WhisperForConditionalGeneration.from_pretrained(\"openai/whisper-tiny.en\")"
   ]
  },
  {
   "cell_type": "code",
   "execution_count": null,
   "id": "cf347f8c-9386-4e86-a59a-80d028500467",
   "metadata": {},
   "outputs": [],
   "source": [
    "# slice first 1/3 embeddings (=10 seconds input audio)\n",
    "state_dict = model.state_dict()\n",
    "state_dict[\"model.encoder.embed_positions.weight\"] = state_dict[\"model.encoder.embed_positions.weight\"][:500, :]"
   ]
  },
  {
   "cell_type": "code",
   "execution_count": null,
   "id": "35049c93-96dc-4384-a76b-101fdc136033",
   "metadata": {},
   "outputs": [],
   "source": [
    "# now load these weights back into the Whisper model, this time configured for this new seq len\n",
    "config = WhisperConfig.from_pretrained(\"openai/whisper-tiny.en\", max_source_positions=500)\n",
    "model = WhisperForConditionalGeneration(config)\n",
    "\n",
    "model.load_state_dict(state_dict)"
   ]
  },
  {
   "cell_type": "code",
   "execution_count": null,
   "id": "4dfcc8ca-36b3-4358-af99-1ae075688c4d",
   "metadata": {},
   "outputs": [],
   "source": [
    "# load the tokenizer\n",
    "tokenizer = WhisperTokenizer.from_pretrained(\"openai/whisper-tiny.en\")\n",
    "# set the input length to 10 seconds\n",
    "feature_extractor = WhisperFeatureExtractor(chunk_length=10)\n",
    "# combine to form the processor\n",
    "processor = WhisperProcessor(feature_extractor=feature_extractor, tokenizer=tokenizer)"
   ]
  },
  {
   "cell_type": "code",
   "execution_count": null,
   "id": "8f9d52f6-e848-4762-9f46-cb9e454f771d",
   "metadata": {},
   "outputs": [],
   "source": [
    "# check model works on a given sample\n",
    "dataset = load_dataset(\"hf-internal-testing/librispeech_asr_dummy\", \"clean\", split=\"validation\")\n",
    "sample = dataset[0][\"audio\"]"
   ]
  },
  {
   "cell_type": "code",
   "execution_count": null,
   "id": "6df5de27-d277-4f3b-b263-68508c43f205",
   "metadata": {},
   "outputs": [],
   "source": [
    "input_features = processor(sample[\"array\"], sampling_rate=sample[\"sampling_rate\"], return_tensors=\"pt\").input_features\n",
    "pred_ids = model.generate(input_features, max_new_tokens=128)\n",
    "pred_text = processor.batch_decode(pred_ids, skip_special_tokens=True)\n",
    "print(pred_text)"
   ]
  },
  {
   "cell_type": "code",
   "execution_count": null,
   "id": "604623a8-16c1-4df1-a603-67ce9d86bea8",
   "metadata": {},
   "outputs": [],
   "source": []
  }
 ],
 "metadata": {
  "kernelspec": {
   "display_name": "Python 3 (ipykernel)",
   "language": "python",
   "name": "python3"
  },
  "language_info": {
   "codemirror_mode": {
    "name": "ipython",
    "version": 3
   },
   "file_extension": ".py",
   "mimetype": "text/x-python",
   "name": "python",
   "nbconvert_exporter": "python",
   "pygments_lexer": "ipython3",
   "version": "3.9.13"
  }
 },
 "nbformat": 4,
 "nbformat_minor": 5
}
