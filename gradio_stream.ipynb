{
 "cells": [
  {
   "cell_type": "code",
   "execution_count": 18,
   "id": "19056426-71f9-48c9-82d7-f6cc870efe58",
   "metadata": {},
   "outputs": [],
   "source": [
    "import numpy as np\n",
    "import gradio as gr\n",
    "import math"
   ]
  },
  {
   "cell_type": "markdown",
   "id": "5d6e3ea2-d62d-44fb-9613-4f128c069d75",
   "metadata": {},
   "source": [
    "#### Check audio output with non-streaming mode"
   ]
  },
  {
   "cell_type": "code",
   "execution_count": null,
   "id": "f4b26c97-1b42-4efa-828e-102544122bed",
   "metadata": {},
   "outputs": [],
   "source": [
    "def get_bip_bip(total_duration=5, chunk_duration=None, bip_duration=1.25, sample_rate=32000):\n",
    "    \"\"\"Produces a series of 'bip bip' sounds at a given frequency.\"\"\"\n",
    "    chunk_duration = chunk_duration if chunk_duration is not None else total_duration * sample_rate // 5\n",
    "    timesteps = np.arange(int(total_duration * sample_rate)) / sample_rate\n",
    "    wav = np.cos(2 * math.pi * 440 * timesteps)\n",
    "    time_period = (timesteps % (2 * bip_duration)) / (2 * bip_duration)\n",
    "    envelope = time_period >= 0.5\n",
    "    waveform = wav * envelope\n",
    "    return waveform\n",
    "\n",
    "def get_bip_bip_static(total_duration=5, chunk_duration=None, bip_duration=0.125, sample_rate=32000):\n",
    "    \"\"\"Returns the entire waveform in one go.\"\"\"\n",
    "    waveform = get_bip_bip(total_duration=total_duration, chunk_duration=chunk_duration, bip_duration=bip_duration, sample_rate=sample_rate)\n",
    "    return gr.make_waveform((sample_rate, waveform))"
   ]
  },
  {
   "cell_type": "code",
   "execution_count": null,
   "id": "f8673710-59dc-40ab-8d50-e4d41e9e8f9f",
   "metadata": {},
   "outputs": [],
   "source": [
    "# check our static bip bip works (spoiler: it does!)\n",
    "with gr.Blocks() as demo:\n",
    "    with gr.Column():\n",
    "        total_duration = gr.Slider(10, 30, value=15, step=5, label=\"Audio length in s\")\n",
    "        audio_input_btn = gr.Button(\"Return array\")\n",
    "        audio_output = gr.Audio(streaming=False, autoplay=True)\n",
    "    \n",
    "        audio_input_btn.click(get_bip_bip_static, inputs=[total_duration], outputs=audio_output)\n",
    "\n",
    "demo.queue().launch()"
   ]
  },
  {
   "cell_type": "markdown",
   "id": "99484d56-90e6-4471-8638-f6d95e7cd981",
   "metadata": {},
   "source": [
    "#### Check audio output with streaming mode"
   ]
  },
  {
   "cell_type": "code",
   "execution_count": 19,
   "id": "5e26b976-2d6f-4ea2-99d3-44d36475a676",
   "metadata": {},
   "outputs": [],
   "source": [
    "target_dtype = np.int16\n",
    "max_range = np.iinfo(target_dtype).max\n",
    "\n",
    "def get_bip_bip_streaming(total_duration=5, chunk_duration=None, bip_duration=0.125, sample_rate=32000):\n",
    "    \"\"\"Returns the waveform in chunks of specified duration.\"\"\"\n",
    "    waveform = get_bip_bip(total_duration=total_duration, chunk_duration=chunk_duration, bip_duration=bip_duration, sample_rate=sample_rate)\n",
    "    i = 0\n",
    "    while chunk_duration*i < len(waveform):\n",
    "        chunk = waveform[chunk_duration*i:chunk_duration*(i+1)]\n",
    "        chunk = (chunk * max_range).astype(np.int16)\n",
    "        yield (sample_rate, chunk)\n",
    "        time.sleep(chunk_duration *0.9)\n",
    "        i += 1"
   ]
  },
  {
   "cell_type": "code",
   "execution_count": 20,
   "id": "97073e56-4cc6-41e7-99b7-f7446a60bf01",
   "metadata": {},
   "outputs": [
    {
     "name": "stdout",
     "output_type": "stream",
     "text": [
      "Running on local URL:  http://127.0.0.1:7866\n",
      "\n",
      "To create a public link, set `share=True` in `launch()`.\n"
     ]
    },
    {
     "data": {
      "text/html": [
       "<div><iframe src=\"http://127.0.0.1:7866/\" width=\"100%\" height=\"500\" allow=\"autoplay; camera; microphone; clipboard-read; clipboard-write;\" frameborder=\"0\" allowfullscreen></iframe></div>"
      ],
      "text/plain": [
       "<IPython.core.display.HTML object>"
      ]
     },
     "metadata": {},
     "output_type": "display_data"
    },
    {
     "data": {
      "text/plain": []
     },
     "execution_count": 20,
     "metadata": {},
     "output_type": "execute_result"
    }
   ],
   "source": [
    "# check our streaming bip bip works - currently errors out\n",
    "with gr.Blocks() as demo:\n",
    "    with gr.Column():\n",
    "        total_duration = gr.Slider(10, 30, value=15, step=5, label=\"Audio length in s\")\n",
    "        chunk_duration = gr.Slider(2, 10, value=2, step=2, label=\"Streaming interval in s\")\n",
    "        stream_input_btn = gr.Button(\"Stream as array\")\n",
    "        stream_output = gr.Audio(streaming=True, type=\"numpy\", autoplay=True)\n",
    "    \n",
    "        stream_input_btn.click(get_bip_bip_streaming, inputs=[total_duration, chunk_duration], outputs=stream_output)\n",
    "\n",
    "demo.queue().launch()"
   ]
  },
  {
   "cell_type": "code",
   "execution_count": null,
   "id": "00a8dcc6-5a93-412c-84e9-8661054c9002",
   "metadata": {},
   "outputs": [],
   "source": []
  }
 ],
 "metadata": {
  "kernelspec": {
   "display_name": "Python 3 (ipykernel)",
   "language": "python",
   "name": "python3"
  },
  "language_info": {
   "codemirror_mode": {
    "name": "ipython",
    "version": 3
   },
   "file_extension": ".py",
   "mimetype": "text/x-python",
   "name": "python",
   "nbconvert_exporter": "python",
   "pygments_lexer": "ipython3",
   "version": "3.9.13"
  }
 },
 "nbformat": 4,
 "nbformat_minor": 5
}
